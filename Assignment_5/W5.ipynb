{
 "cells": [
  {
   "cell_type": "code",
   "execution_count": 1,
   "metadata": {},
   "outputs": [],
   "source": [
    "#1\n",
    "\n",
    "#### Remember to install SentiStrength\n",
    "\n",
    "##   pip install sentistrength\n",
    "\n",
    "import random\n",
    "import numpy as np\n",
    "import matplotlib.pyplot as plt\n",
    "\n",
    "\n",
    "# Here we set up SentiStrength. Make sure the file \"SentiStrength.jar\" and the folder \"SentiStrength_Data\" \n",
    "# are in the same folder as W5.ipynb\n",
    "\n",
    "from sentistrength import PySentiStr\n",
    "senti = PySentiStr()\n",
    "senti.setSentiStrengthPath('SentiStrength.jar')\n",
    "senti.setSentiStrengthLanguageFolderPath('SentiStrength_Data/') "
   ]
  },
  {
   "cell_type": "code",
   "execution_count": 2,
   "metadata": {},
   "outputs": [
    {
     "name": "stdout",
     "output_type": "stream",
     "text": [
      "[2]\n",
      "[1]\n"
     ]
    }
   ],
   "source": [
    "#2\n",
    "\n",
    "# A few simple examples\n",
    "\n",
    "result = senti.getSentiment(\"Taha is a great teacher. He deserves an award!\")\n",
    "print(result)\n",
    "\n",
    "result = senti.getSentiment(\"Taha is ok!. He is not terrible!\")\n",
    "print(result)"
   ]
  },
  {
   "cell_type": "code",
   "execution_count": 3,
   "metadata": {},
   "outputs": [
    {
     "name": "stdout",
     "output_type": "stream",
     "text": [
      "[2] Taha is a great teacher. He deserves an award!\n",
      "[-3] I hate  my job.\n",
      "[0] Maybe I will go\n",
      "[1] Taha is ok!. He is not terrible!\n"
     ]
    }
   ],
   "source": [
    "#3\n",
    "\n",
    "# Here you can add multiple sentences to a list and using \"for\" calculate the sentiment for all of them\n",
    "\n",
    "test=('Taha is a great teacher. He deserves an award!','I hate  my job.','Maybe I will go','Taha is ok!. He is not terrible!')\n",
    "\n",
    "for item in test:\n",
    "    result = senti.getSentiment(item)\n",
    "    print(result, item)"
   ]
  },
  {
   "cell_type": "code",
   "execution_count": 4,
   "metadata": {},
   "outputs": [
    {
     "name": "stdout",
     "output_type": "stream",
     "text": [
      "[0] CommentTextDisplay\n",
      "\n",
      "[1] Yay now Boombayah is the most view girl group in kpop, After TT of Twice. We beat legend SNSD :V\n",
      "\n",
      "[2] I love you😍\n",
      "\n",
      "[-1] Eh I did the before did so bad 🖖🏽😉\n",
      "\n",
      "[0] we need to do mass streaming again\n",
      "\n",
      "57060\n"
     ]
    }
   ],
   "source": [
    "#4\n",
    "\n",
    "# Here you can open a file with one comment per line, read them one by one, and calculate the sentiment\n",
    "\n",
    "with open('blackpink.txt') as f:\n",
    "    lines = f.readlines()\n",
    "i=0\n",
    "for line in lines:\n",
    "    if i < 5: #I want the \"for\" loop to stop after 5 comments\n",
    "        result = senti.getSentiment(line)\n",
    "        print(result,line)\n",
    "        i=i+1\n",
    "        \n",
    "        \n",
    "print(len(lines)) #This prints the total number of comments in the file"
   ]
  },
  {
   "cell_type": "code",
   "execution_count": 5,
   "metadata": {},
   "outputs": [
    {
     "name": "stdout",
     "output_type": "stream",
     "text": [
      "[1] Plizz like Whistle, Playing with Fire n Stay mv... 😭 don't only like+watch boombayah, but like+watch whistle, pwf and stay too 😤\n",
      "\n",
      "[0] let's reach 40million views before the end of this month 🙌\n",
      "\n",
      "[0] Ritika Waknis This video is their debut.\n",
      "\n",
      "[2] i love lisa blackpink\n",
      "\n",
      "[1] you r 2 mos.old already.. Happy 2nd monthsary my babies.. 😄👍👏👌❤\n",
      "\n",
      "[1] been wondering why AIIYL views slowing. turns out some of yall here streaming boombayah lol  200M before anniversary leggo\n",
      "\n",
      "[1] MOM! Where's the bleach?\n",
      "\n",
      "[3] Ianryx Boo Thank youuu, what a nice once 😊😊 congratulations on the TT 200m! 💕\n",
      "\n",
      "[1] +Myeong Cho thank you ❤\n",
      "\n",
      "[0] there has only been two girl groups, the shade.\n",
      "\n"
     ]
    }
   ],
   "source": [
    "#5\n",
    "\n",
    "#Here you can select a random set of k comments\n",
    "random_sample=random.choices(lines, k=10)\n",
    "\n",
    "#And calculate their sentiment and store them in an array (called s)\n",
    "\n",
    "s=[]\n",
    "\n",
    "for line in random_sample:\n",
    "    result = senti.getSentiment(line)\n",
    "    s.append(result[0])\n",
    "    print(result,line)"
   ]
  },
  {
   "cell_type": "code",
   "execution_count": 6,
   "metadata": {},
   "outputs": [
    {
     "data": {
      "image/png": "[encoded data removed]",
      "text/plain": [
       "<matplotlib.figure.Figure at 0x7fd42ea09860>"
      ]
     },
     "metadata": {},
     "output_type": "display_data"
    }
   ],
   "source": [
    "#6\n",
    "\n",
    "#Here you can produce the histogram of the sentiments calculated for your sample comments\n",
    "\n",
    "plt.hist(s, bins=range(-5,6))  \n",
    "plt.title(\"Blackpink\")\n",
    "plt.savefig('blackpink.png',dpi=300)\n",
    "plt.show()"
   ]
  },
  {
   "cell_type": "code",
   "execution_count": 7,
   "metadata": {},
   "outputs": [
    {
     "data": {
      "text/plain": [
       "1.0"
      ]
     },
     "execution_count": 7,
     "metadata": {},
     "output_type": "execute_result"
    }
   ],
   "source": [
    "#7\n",
    "\n",
    "#The average sentiment of the sample\n",
    "np.mean(s)"
   ]
  },
  {
   "cell_type": "code",
   "execution_count": null,
   "metadata": {},
   "outputs": [],
   "source": []
  }
 ],
 "metadata": {
  "kernelspec": {
   "display_name": "Python 3",
   "language": "python",
   "name": "python3"
  },
  "language_info": {
   "codemirror_mode": {
    "name": "ipython",
    "version": 3
   },
   "file_extension": ".py",
   "mimetype": "text/x-python",
   "name": "python",
   "nbconvert_exporter": "python",
   "pygments_lexer": "ipython3",
   "version": "3.6.0"
  }
 },
 "nbformat": 4,
 "nbformat_minor": 4
}
