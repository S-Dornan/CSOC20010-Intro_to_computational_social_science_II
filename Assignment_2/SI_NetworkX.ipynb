{
 "cells": [
  {
   "cell_type": "code",
   "execution_count": 1,
   "metadata": {},
   "outputs": [],
   "source": [
    "#1\n",
    "import random\n",
    "from random import randint\n",
    "import numpy as np\n",
    "from matplotlib import pyplot as plt \n",
    "import networkx as nx\n",
    "\n",
    "#1.2: Setting Parameters\n",
    "\n",
    "N=795\n",
    "L=.01 #rate of indefction from an infected node to it's neighbour.\n",
    "R=10 #number of realizations\n",
    "T=300 #length of simulations (number of time-steps)"
   ]
  },
  {
   "cell_type": "code",
   "execution_count": 2,
   "metadata": {},
   "outputs": [],
   "source": [
    "#2: Define file\n",
    "namename=\"High_School.graphml\" #give the name of the data file here + make sure it is in the right folder"
   ]
  },
  {
   "cell_type": "code",
   "execution_count": 3,
   "metadata": {
    "collapsed": false,
    "jupyter": {
     "outputs_hidden": false
    }
   },
   "outputs": [],
   "source": [
    "#3.1 Highschool\n",
    "highschool = nx.read_graphml(namename)\n",
    "\n",
    "#3.2 Watts Strogatz\n",
    "watts_strogatz = nx.watts_strogatz_graph(N,9,.9)\n",
    "\n",
    "#3.3 Erdos Renyi\n",
    "erdos_renyi = nx.erdos_renyi_graph(N,0.011, directed = False)\n",
    "\n",
    "#3.4 Barbasi Albert\n",
    "barabasi_albert = nx.barabasi_albert_graph(N, 4)\n",
    "\n",
    "#3.5 Config (configuration model with the same degree sequence as Highschool network)\n",
    "degree_sequence=list(nx.degree(highschool).values())\n",
    "config = nx.configuration_model(degree_sequence)\n"
   ]
  },
  {
   "cell_type": "code",
   "execution_count": 4,
   "metadata": {
    "collapsed": false,
    "jupyter": {
     "outputs_hidden": false
    }
   },
   "outputs": [],
   "source": [
    "#4\n",
    "#select the network\n",
    "\n",
    "g=config\n",
    "#g= highschool\n",
    "#g = watts_strogatz\n",
    "#g= erdos_renyi"
   ]
  },
  {
   "cell_type": "code",
   "execution_count": 5,
   "metadata": {},
   "outputs": [],
   "source": [
    "#5: Building dataframe with number of simulations? + creating an array\n",
    "IAR=([float(0)] * T)\n",
    "v1=np.array(IAR)"
   ]
  },
  {
   "cell_type": "code",
   "execution_count": 6,
   "metadata": {
    "collapsed": false,
    "jupyter": {
     "outputs_hidden": false
    }
   },
   "outputs": [],
   "source": [
    "#6: Filling dataframe with data\n",
    "\n",
    "for r in list(range(0,R)):\n",
    "    nx.set_node_attributes(g, 'state', 's')\n",
    "    seed=int(randint(0,N-1))\n",
    "    g.nodes(data=True)[seed][1]['state']='i'\n",
    "    iar=list();\n",
    "\n",
    "    for t in list(range(0,T)):\n",
    "        for node in g.nodes_iter(data=True):\n",
    "            if node[1]['state'] == 'i':\n",
    "                for neighb in g.neighbors(node[0]):\n",
    "                    p = random.random()\n",
    "                    if p < L:\n",
    "                        g.node[neighb]['state'] = \"i\"\n",
    "        i_all_ratio=float(sum(node[1]['state']=='i' for node in g.nodes_iter(data=True)))/float(N)\n",
    "        iar.append(i_all_ratio)\n",
    "        v2=np.array(iar)\n",
    "    #adding up the two arrays\n",
    "    v1 = v1 + v2\n",
    "v=v1/R"
   ]
  },
  {
   "cell_type": "code",
   "execution_count": 7,
   "metadata": {
    "collapsed": false,
    "jupyter": {
     "outputs_hidden": false
    }
   },
   "outputs": [
    {
     "name": "stdout",
     "output_type": "stream",
     "text": [
      "I ran the spreading model 10 times on Configuration Model\n",
      "Configuration Model\n",
      "The halfway point is: 82 time-steps\n"
     ]
    }
   ],
   "source": [
    "#7\n",
    "#Creating some text for the report and diagram legend\n",
    "\n",
    "dict_models={highschool:'The Highschool Network',\n",
    "             watts_strogatz:'Small World (Watts-Strogatz) Model',\n",
    "             barabasi_albert:'Preferential Attachment (Barbasi-Albert) Model',\n",
    "             erdos_renyi:'Random (Erdos-Renyi) Model)',\n",
    "             config:'Configuration Model'}\n",
    "\n",
    "model_name=dict_models[g]\n",
    "\n",
    "\n",
    "# Retrieving halfway points\n",
    "counter = 0\n",
    "print(\"I ran the spreading model\",R ,\"times on\", model_name)\n",
    "\n",
    "print(dict_models[g])\n",
    "\n",
    "\n",
    "for value in v:\n",
    "    #print(\"ratio of infected nodes: \" , value/float(R))  \n",
    "    counter+=1\n",
    "    if value > 0.5:\n",
    "        print(\"The halfway point is:\", counter, \"time-steps\")\n",
    "        break\n",
    "    else:\n",
    "        if counter == 300:\n",
    "            print(\"The halfway point has not been reached. \\nThe final infection rate was:\", value) \n",
    "            "
   ]
  },
  {
   "cell_type": "code",
   "execution_count": 8,
   "metadata": {
    "collapsed": false,
    "jupyter": {
     "outputs_hidden": false
    }
   },
   "outputs": [
    {
     "data": {
      "image/png": "[encoded data removed]",
      "text/plain": [
       "<matplotlib.figure.Figure at 0x7f8ff0681a20>"
      ]
     },
     "metadata": {},
     "output_type": "display_data"
    }
   ],
   "source": [
    "#8\n",
    "plt.title(\"SI model\") \n",
    "plt.xlabel(\"Simmulation Steps\") \n",
    "plt.ylabel(\"Ratio of Infected Nodes\") \n",
    "plt.plot(v) \n",
    "plt.legend([model_name])\n",
    "plt.show()"
   ]
  },
  {
   "cell_type": "code",
   "execution_count": null,
   "metadata": {
    "collapsed": true,
    "jupyter": {
     "outputs_hidden": true
    }
   },
   "outputs": [],
   "source": []
  },
  {
   "cell_type": "code",
   "execution_count": null,
   "metadata": {},
   "outputs": [],
   "source": []
  }
 ],
 "metadata": {
  "kernelspec": {
   "display_name": "Python 3",
   "language": "python",
   "name": "python3"
  },
  "language_info": {
   "codemirror_mode": {
    "name": "ipython",
    "version": 3
   },
   "file_extension": ".py",
   "mimetype": "text/x-python",
   "name": "python",
   "nbconvert_exporter": "python",
   "pygments_lexer": "ipython3",
   "version": "3.6.0"
  }
 },
 "nbformat": 4,
 "nbformat_minor": 4
}
