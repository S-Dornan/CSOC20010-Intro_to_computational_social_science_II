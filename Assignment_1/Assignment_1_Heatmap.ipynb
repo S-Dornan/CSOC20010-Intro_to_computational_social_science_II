{
 "cells": [
  {
   "cell_type": "markdown",
   "metadata": {},
   "source": [
    "## Note: This notebook assumes your results are formatted in three columns, do not use if your matrix is already formatted as a square"
   ]
  },
  {
   "cell_type": "code",
   "execution_count": null,
   "metadata": {},
   "outputs": [],
   "source": [
    "!pip install pandas\n",
    "!pip install numpy\n",
    "!pip install seaborn\n",
    "!pip install matplotlib"
   ]
  },
  {
   "cell_type": "code",
   "execution_count": null,
   "metadata": {},
   "outputs": [],
   "source": [
    "import pandas as pd\n",
    "import numpy as np\n",
    "import seaborn as sb\n",
    "import matplotlib.pyplot as plt"
   ]
  },
  {
   "cell_type": "markdown",
   "metadata": {},
   "source": [
    "- We'll set the X-axis as RECOVERY CHANCE\n",
    "- We'll set the Y-axis as VIRUS-SPREAD-CHANCE\n",
    "- We'll set the Z-axis to INFECTED-AT-END"
   ]
  },
  {
   "cell_type": "markdown",
   "metadata": {},
   "source": [
    "### Replace the \"path\" variable with the path to your results\n",
    "### Replace the \"colnames\" variable with the nameS of your columns (e.g. \"RECOVERY-CHANCE,\" \"VIRUS-SPREAD-CHANCE,\" and \"PERCENT-INFECTED-AT-END\""
   ]
  },
  {
   "cell_type": "code",
   "execution_count": 89,
   "metadata": {},
   "outputs": [
    {
     "name": "stdout",
     "output_type": "stream",
     "text": [
      "    RECOVERY-CHANCE  VIRUS-SPREAD-CHANCE  PERCENT-INFECTED-AT-END\n",
      "0                 0                    0                     2.00\n",
      "1                 0                    1                    52.00\n",
      "2                 0                    2                    56.00\n",
      "3                 0                    3                    67.33\n",
      "4                 0                    4                    98.70\n",
      "5                 0                    5                   100.00\n",
      "6                 0                    6                   100.00\n",
      "7                 0                    7                   100.00\n",
      "8                 0                    8                   100.00\n",
      "9                 0                    9                   100.00\n",
      "10                0                   10                   100.00\n",
      "11                1                    0                     0.67\n",
      "12                1                    1                    12.00\n",
      "13                1                    2                    69.33\n",
      "14                1                    3                    92.00\n"
     ]
    }
   ],
   "source": [
    "path = \"C:\\\\Path\\\\to\\\\your\\\\results.csv\"   #Replace with the path to your file, make sure it's CSV.\n",
    "#path = \"G:\\\\My Drive\\\\College\\\\CSOC20010\\\\Assignment_1\\Virus_spread_results.csv\"\n",
    "colnames = ['COLUMN-1', 'COLUMN-2', 'COLUMN-3']   #Replace with a list of your column names.\n",
    "#colnames = ['RECOVERY-CHANCE', 'VIRUS-SPREAD-CHANCE', 'PERCENT-INFECTED-AT-END']\n",
    "\n",
    "heatmap_size = 11   #NB this produces a 11*11 matrix. Replace with \"10\" for a 10*10 matrix.\n",
    "df = pd.read_csv(path, names=colnames, skiprows=1)  #skip row 1 if it's the name of the column.\n",
    "print(df.head(15))   #Print first 15 rows\n"
   ]
  },
  {
   "cell_type": "code",
   "execution_count": null,
   "metadata": {},
   "outputs": [],
   "source": [
    "percent_infected = df['PERCENT-INFECTED-AT-END']\n",
    "percent_infected = percent_infected.to_numpy()\n",
    "percent_infected = np.reshape(percent_infected, (heatmap_size, heatmap_size)) #Reshape into square matrix\n",
    "\n",
    "percent_infected_df = pd.DataFrame(percent_infected)\n",
    "percent_infected_df = percent_infected_df.iloc[::-1]\n",
    "print(percent_infected_df)\n",
    "    #NB: Rows = Virus spread chance, Cols = Recovery_chance"
   ]
  },
  {
   "cell_type": "code",
   "execution_count": null,
   "metadata": {
    "scrolled": true
   },
   "outputs": [],
   "source": [
    "#Set label names\n",
    "#NB: Rows = Virus spread chance, Cols = Recovery_chance\n",
    "row_name = 'Percentage chance virus will spread'\n",
    "column_name='percentage chance population will recover'\n",
    "colourbar_label = 'Insert your colourbar label here'\n",
    "\n",
    "#Format label names\n",
    "row_name = row_name.title()\n",
    "column_name = column_name.title()\n",
    "colourbar_label = colourbar_label.title()\n",
    "\n",
    "#Plot heatmap\n",
    "fig, ax = plt.subplots(figsize=(heatmap_size, heatmap_size))\n",
    "heatmap = sb.heatmap(percent_infected_df, annot=True, fmt='.2f', cbar_kws={'label':colourbar_label})\n",
    "heatmap.set_xlabel(row_name, fontsize=12)\n",
    "heatmap.set_ylabel(column_name, fontsize=12)\n",
    "\n",
    "#Add title\n",
    "plot_title = 'Spread of a virus through a network under different viral conditions'\n",
    "plot_title = plot_title.title()\n",
    "ax.set_title(plot_title, fontsize=16)\n",
    "plt.show()"
   ]
  },
  {
   "cell_type": "markdown",
   "metadata": {},
   "source": [
    "Right, so the whole lot are currently down along the X axis. We want recovery chance as the X axis, virus spread chance as the y axis, and precentage infected at the end as the colour."
   ]
  }
 ],
 "metadata": {
  "kernelspec": {
   "display_name": "Python 3",
   "language": "python",
   "name": "python3"
  },
  "language_info": {
   "codemirror_mode": {
    "name": "ipython",
    "version": 3
   },
   "file_extension": ".py",
   "mimetype": "text/x-python",
   "name": "python",
   "nbconvert_exporter": "python",
   "pygments_lexer": "ipython3",
   "version": "3.8.5"
  }
 },
 "nbformat": 4,
 "nbformat_minor": 4
}
